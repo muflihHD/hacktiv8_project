{
  "nbformat": 4,
  "nbformat_minor": 0,
  "metadata": {
    "colab": {
      "provenance": [],
      "toc_visible": true
    },
    "kernelspec": {
      "name": "python3",
      "display_name": "Python 3"
    },
    "language_info": {
      "name": "python"
    }
  },
  "cells": [
    {
      "cell_type": "code",
      "source": [
        "# Import Libraries\n",
        "\n",
        "import pickle\n",
        "from tensorflow.keras.models import load_model\n",
        "import pandas as pd\n",
        "import numpy as np\n",
        "%pip install feature-engine"
      ],
      "metadata": {
        "id": "aID4mANNAqyL",
        "colab": {
          "base_uri": "https://localhost:8080/"
        },
        "outputId": "ea2b4a1e-13a5-44d6-9ac5-674d19d34d27"
      },
      "execution_count": 1,
      "outputs": [
        {
          "output_type": "stream",
          "name": "stdout",
          "text": [
            "Collecting feature-engine\n",
            "  Downloading feature_engine-1.6.1-py2.py3-none-any.whl (326 kB)\n",
            "\u001b[2K     \u001b[90m━━━━━━━━━━━━━━━━━━━━━━━━━━━━━━━━━━━━━━━\u001b[0m \u001b[32m326.6/326.6 kB\u001b[0m \u001b[31m3.4 MB/s\u001b[0m eta \u001b[36m0:00:00\u001b[0m\n",
            "\u001b[?25hRequirement already satisfied: numpy>=1.18.2 in /usr/local/lib/python3.10/dist-packages (from feature-engine) (1.22.4)\n",
            "Requirement already satisfied: pandas>=1.0.3 in /usr/local/lib/python3.10/dist-packages (from feature-engine) (1.5.3)\n",
            "Requirement already satisfied: scikit-learn>=1.0.0 in /usr/local/lib/python3.10/dist-packages (from feature-engine) (1.2.2)\n",
            "Requirement already satisfied: scipy>=1.4.1 in /usr/local/lib/python3.10/dist-packages (from feature-engine) (1.10.1)\n",
            "Requirement already satisfied: statsmodels>=0.11.1 in /usr/local/lib/python3.10/dist-packages (from feature-engine) (0.13.5)\n",
            "Requirement already satisfied: python-dateutil>=2.8.1 in /usr/local/lib/python3.10/dist-packages (from pandas>=1.0.3->feature-engine) (2.8.2)\n",
            "Requirement already satisfied: pytz>=2020.1 in /usr/local/lib/python3.10/dist-packages (from pandas>=1.0.3->feature-engine) (2022.7.1)\n",
            "Requirement already satisfied: joblib>=1.1.1 in /usr/local/lib/python3.10/dist-packages (from scikit-learn>=1.0.0->feature-engine) (1.3.1)\n",
            "Requirement already satisfied: threadpoolctl>=2.0.0 in /usr/local/lib/python3.10/dist-packages (from scikit-learn>=1.0.0->feature-engine) (3.2.0)\n",
            "Requirement already satisfied: patsy>=0.5.2 in /usr/local/lib/python3.10/dist-packages (from statsmodels>=0.11.1->feature-engine) (0.5.3)\n",
            "Requirement already satisfied: packaging>=21.3 in /usr/local/lib/python3.10/dist-packages (from statsmodels>=0.11.1->feature-engine) (23.1)\n",
            "Requirement already satisfied: six in /usr/local/lib/python3.10/dist-packages (from patsy>=0.5.2->statsmodels>=0.11.1->feature-engine) (1.16.0)\n",
            "Installing collected packages: feature-engine\n",
            "Successfully installed feature-engine-1.6.1\n"
          ]
        }
      ]
    },
    {
      "cell_type": "markdown",
      "source": [
        "## Load Model"
      ],
      "metadata": {
        "id": "pIYgD4RBAh-j"
      }
    },
    {
      "cell_type": "code",
      "execution_count": 2,
      "metadata": {
        "id": "1LTQCgYFAVYw"
      },
      "outputs": [],
      "source": [
        "# Load All Models\n",
        "\n",
        "with open('/content/drive/MyDrive/hacktiv8 project/ML 4/final_pipeline.pkl', 'rb') as file_1:\n",
        "  model_pipeline = pickle.load(file_1)\n",
        "\n",
        "model_ann = load_model('/content/drive/MyDrive/hacktiv8 project/ML 4/churn_model.h5')"
      ]
    },
    {
      "cell_type": "markdown",
      "source": [
        "## Inferencing"
      ],
      "metadata": {
        "id": "Pipc_c8UA_PQ"
      }
    },
    {
      "cell_type": "code",
      "source": [
        "# Create A New Data\n",
        "\n",
        "data_inf = {\n",
        "    'user_id': 'hehehe',\n",
        "    'age': 35,\n",
        "    'gender': 'M',\n",
        "    'region_category': 'City',\n",
        "    'membership_category': 'Gold Membership',\n",
        "    'joining_date': '2017-01-20\t',\n",
        "    'joined_through_referral': 'No',\n",
        "    'preferred_offer_types': 'Credit/Debit Card Offers',\n",
        "    'medium_of_operation': 'Smartphone',\n",
        "    'internet_option': 'Wi-fi',\n",
        "    'last_visit_time': '22:29:49',\n",
        "    'days_since_last_login': 15,\n",
        "    'avg_time_spent': 34.79\t,\n",
        "    'avg_transaction_value': 13147.91,\n",
        "    'avg_frequency_login_days': 7.0,\n",
        "    'points_in_wallet': 587.01,\n",
        "    'used_special_discount': 'No',\n",
        "    'offer_application_preference': 'No',\n",
        "    'past_complaint': 'Yes',\n",
        "    'complaint_status': 'Unsolved',\n",
        "    'feedback': 'Poor Product Quality'\n",
        "}\n",
        "\n",
        "data_inf = pd.DataFrame([data_inf])\n",
        "data_inf"
      ],
      "metadata": {
        "colab": {
          "base_uri": "https://localhost:8080/",
          "height": 209
        },
        "id": "lUrubavqBD7j",
        "outputId": "512e8ec5-f463-4c8f-be1e-acb120ca7253"
      },
      "execution_count": 9,
      "outputs": [
        {
          "output_type": "execute_result",
          "data": {
            "text/plain": [
              "  user_id  age gender region_category membership_category  joining_date  \\\n",
              "0  hehehe   35      M            City     Gold Membership  2017-01-20\\t   \n",
              "\n",
              "  joined_through_referral     preferred_offer_types medium_of_operation  \\\n",
              "0                      No  Credit/Debit Card Offers          Smartphone   \n",
              "\n",
              "  internet_option  ... days_since_last_login  avg_time_spent  \\\n",
              "0           Wi-fi  ...                    15           34.79   \n",
              "\n",
              "   avg_transaction_value  avg_frequency_login_days  points_in_wallet  \\\n",
              "0               13147.91                       7.0            587.01   \n",
              "\n",
              "   used_special_discount offer_application_preference past_complaint  \\\n",
              "0                     No                           No            Yes   \n",
              "\n",
              "  complaint_status              feedback  \n",
              "0         Unsolved  Poor Product Quality  \n",
              "\n",
              "[1 rows x 21 columns]"
            ],
            "text/html": [
              "\n",
              "\n",
              "  <div id=\"df-8852f06c-4d2b-468a-aead-b6a3f0defefa\">\n",
              "    <div class=\"colab-df-container\">\n",
              "      <div>\n",
              "<style scoped>\n",
              "    .dataframe tbody tr th:only-of-type {\n",
              "        vertical-align: middle;\n",
              "    }\n",
              "\n",
              "    .dataframe tbody tr th {\n",
              "        vertical-align: top;\n",
              "    }\n",
              "\n",
              "    .dataframe thead th {\n",
              "        text-align: right;\n",
              "    }\n",
              "</style>\n",
              "<table border=\"1\" class=\"dataframe\">\n",
              "  <thead>\n",
              "    <tr style=\"text-align: right;\">\n",
              "      <th></th>\n",
              "      <th>user_id</th>\n",
              "      <th>age</th>\n",
              "      <th>gender</th>\n",
              "      <th>region_category</th>\n",
              "      <th>membership_category</th>\n",
              "      <th>joining_date</th>\n",
              "      <th>joined_through_referral</th>\n",
              "      <th>preferred_offer_types</th>\n",
              "      <th>medium_of_operation</th>\n",
              "      <th>internet_option</th>\n",
              "      <th>...</th>\n",
              "      <th>days_since_last_login</th>\n",
              "      <th>avg_time_spent</th>\n",
              "      <th>avg_transaction_value</th>\n",
              "      <th>avg_frequency_login_days</th>\n",
              "      <th>points_in_wallet</th>\n",
              "      <th>used_special_discount</th>\n",
              "      <th>offer_application_preference</th>\n",
              "      <th>past_complaint</th>\n",
              "      <th>complaint_status</th>\n",
              "      <th>feedback</th>\n",
              "    </tr>\n",
              "  </thead>\n",
              "  <tbody>\n",
              "    <tr>\n",
              "      <th>0</th>\n",
              "      <td>hehehe</td>\n",
              "      <td>35</td>\n",
              "      <td>M</td>\n",
              "      <td>City</td>\n",
              "      <td>Gold Membership</td>\n",
              "      <td>2017-01-20\\t</td>\n",
              "      <td>No</td>\n",
              "      <td>Credit/Debit Card Offers</td>\n",
              "      <td>Smartphone</td>\n",
              "      <td>Wi-fi</td>\n",
              "      <td>...</td>\n",
              "      <td>15</td>\n",
              "      <td>34.79</td>\n",
              "      <td>13147.91</td>\n",
              "      <td>7.0</td>\n",
              "      <td>587.01</td>\n",
              "      <td>No</td>\n",
              "      <td>No</td>\n",
              "      <td>Yes</td>\n",
              "      <td>Unsolved</td>\n",
              "      <td>Poor Product Quality</td>\n",
              "    </tr>\n",
              "  </tbody>\n",
              "</table>\n",
              "<p>1 rows × 21 columns</p>\n",
              "</div>\n",
              "      <button class=\"colab-df-convert\" onclick=\"convertToInteractive('df-8852f06c-4d2b-468a-aead-b6a3f0defefa')\"\n",
              "              title=\"Convert this dataframe to an interactive table.\"\n",
              "              style=\"display:none;\">\n",
              "\n",
              "  <svg xmlns=\"http://www.w3.org/2000/svg\" height=\"24px\"viewBox=\"0 0 24 24\"\n",
              "       width=\"24px\">\n",
              "    <path d=\"M0 0h24v24H0V0z\" fill=\"none\"/>\n",
              "    <path d=\"M18.56 5.44l.94 2.06.94-2.06 2.06-.94-2.06-.94-.94-2.06-.94 2.06-2.06.94zm-11 1L8.5 8.5l.94-2.06 2.06-.94-2.06-.94L8.5 2.5l-.94 2.06-2.06.94zm10 10l.94 2.06.94-2.06 2.06-.94-2.06-.94-.94-2.06-.94 2.06-2.06.94z\"/><path d=\"M17.41 7.96l-1.37-1.37c-.4-.4-.92-.59-1.43-.59-.52 0-1.04.2-1.43.59L10.3 9.45l-7.72 7.72c-.78.78-.78 2.05 0 2.83L4 21.41c.39.39.9.59 1.41.59.51 0 1.02-.2 1.41-.59l7.78-7.78 2.81-2.81c.8-.78.8-2.07 0-2.86zM5.41 20L4 18.59l7.72-7.72 1.47 1.35L5.41 20z\"/>\n",
              "  </svg>\n",
              "      </button>\n",
              "\n",
              "\n",
              "\n",
              "    <div id=\"df-75d19b18-077d-45a8-a650-9461e50b135f\">\n",
              "      <button class=\"colab-df-quickchart\" onclick=\"quickchart('df-75d19b18-077d-45a8-a650-9461e50b135f')\"\n",
              "              title=\"Suggest charts.\"\n",
              "              style=\"display:none;\">\n",
              "\n",
              "<svg xmlns=\"http://www.w3.org/2000/svg\" height=\"24px\"viewBox=\"0 0 24 24\"\n",
              "     width=\"24px\">\n",
              "    <g>\n",
              "        <path d=\"M19 3H5c-1.1 0-2 .9-2 2v14c0 1.1.9 2 2 2h14c1.1 0 2-.9 2-2V5c0-1.1-.9-2-2-2zM9 17H7v-7h2v7zm4 0h-2V7h2v10zm4 0h-2v-4h2v4z\"/>\n",
              "    </g>\n",
              "</svg>\n",
              "      </button>\n",
              "    </div>\n",
              "\n",
              "<style>\n",
              "  .colab-df-quickchart {\n",
              "    background-color: #E8F0FE;\n",
              "    border: none;\n",
              "    border-radius: 50%;\n",
              "    cursor: pointer;\n",
              "    display: none;\n",
              "    fill: #1967D2;\n",
              "    height: 32px;\n",
              "    padding: 0 0 0 0;\n",
              "    width: 32px;\n",
              "  }\n",
              "\n",
              "  .colab-df-quickchart:hover {\n",
              "    background-color: #E2EBFA;\n",
              "    box-shadow: 0px 1px 2px rgba(60, 64, 67, 0.3), 0px 1px 3px 1px rgba(60, 64, 67, 0.15);\n",
              "    fill: #174EA6;\n",
              "  }\n",
              "\n",
              "  [theme=dark] .colab-df-quickchart {\n",
              "    background-color: #3B4455;\n",
              "    fill: #D2E3FC;\n",
              "  }\n",
              "\n",
              "  [theme=dark] .colab-df-quickchart:hover {\n",
              "    background-color: #434B5C;\n",
              "    box-shadow: 0px 1px 3px 1px rgba(0, 0, 0, 0.15);\n",
              "    filter: drop-shadow(0px 1px 2px rgba(0, 0, 0, 0.3));\n",
              "    fill: #FFFFFF;\n",
              "  }\n",
              "</style>\n",
              "\n",
              "    <script>\n",
              "      async function quickchart(key) {\n",
              "        const containerElement = document.querySelector('#' + key);\n",
              "        const charts = await google.colab.kernel.invokeFunction(\n",
              "            'suggestCharts', [key], {});\n",
              "      }\n",
              "    </script>\n",
              "\n",
              "      <script>\n",
              "\n",
              "function displayQuickchartButton(domScope) {\n",
              "  let quickchartButtonEl =\n",
              "    domScope.querySelector('#df-75d19b18-077d-45a8-a650-9461e50b135f button.colab-df-quickchart');\n",
              "  quickchartButtonEl.style.display =\n",
              "    google.colab.kernel.accessAllowed ? 'block' : 'none';\n",
              "}\n",
              "\n",
              "        displayQuickchartButton(document);\n",
              "      </script>\n",
              "      <style>\n",
              "    .colab-df-container {\n",
              "      display:flex;\n",
              "      flex-wrap:wrap;\n",
              "      gap: 12px;\n",
              "    }\n",
              "\n",
              "    .colab-df-convert {\n",
              "      background-color: #E8F0FE;\n",
              "      border: none;\n",
              "      border-radius: 50%;\n",
              "      cursor: pointer;\n",
              "      display: none;\n",
              "      fill: #1967D2;\n",
              "      height: 32px;\n",
              "      padding: 0 0 0 0;\n",
              "      width: 32px;\n",
              "    }\n",
              "\n",
              "    .colab-df-convert:hover {\n",
              "      background-color: #E2EBFA;\n",
              "      box-shadow: 0px 1px 2px rgba(60, 64, 67, 0.3), 0px 1px 3px 1px rgba(60, 64, 67, 0.15);\n",
              "      fill: #174EA6;\n",
              "    }\n",
              "\n",
              "    [theme=dark] .colab-df-convert {\n",
              "      background-color: #3B4455;\n",
              "      fill: #D2E3FC;\n",
              "    }\n",
              "\n",
              "    [theme=dark] .colab-df-convert:hover {\n",
              "      background-color: #434B5C;\n",
              "      box-shadow: 0px 1px 3px 1px rgba(0, 0, 0, 0.15);\n",
              "      filter: drop-shadow(0px 1px 2px rgba(0, 0, 0, 0.3));\n",
              "      fill: #FFFFFF;\n",
              "    }\n",
              "  </style>\n",
              "\n",
              "      <script>\n",
              "        const buttonEl =\n",
              "          document.querySelector('#df-8852f06c-4d2b-468a-aead-b6a3f0defefa button.colab-df-convert');\n",
              "        buttonEl.style.display =\n",
              "          google.colab.kernel.accessAllowed ? 'block' : 'none';\n",
              "\n",
              "        async function convertToInteractive(key) {\n",
              "          const element = document.querySelector('#df-8852f06c-4d2b-468a-aead-b6a3f0defefa');\n",
              "          const dataTable =\n",
              "            await google.colab.kernel.invokeFunction('convertToInteractive',\n",
              "                                                     [key], {});\n",
              "          if (!dataTable) return;\n",
              "\n",
              "          const docLinkHtml = 'Like what you see? Visit the ' +\n",
              "            '<a target=\"_blank\" href=https://colab.research.google.com/notebooks/data_table.ipynb>data table notebook</a>'\n",
              "            + ' to learn more about interactive tables.';\n",
              "          element.innerHTML = '';\n",
              "          dataTable['output_type'] = 'display_data';\n",
              "          await google.colab.output.renderOutput(dataTable, element);\n",
              "          const docLink = document.createElement('div');\n",
              "          docLink.innerHTML = docLinkHtml;\n",
              "          element.appendChild(docLink);\n",
              "        }\n",
              "      </script>\n",
              "    </div>\n",
              "  </div>\n"
            ]
          },
          "metadata": {},
          "execution_count": 9
        }
      ]
    },
    {
      "cell_type": "code",
      "source": [
        "# Predict using ANN\n",
        "\n",
        "data_inf_transform = model_pipeline.transform(data_inf)\n",
        "y_pred_inf = model_ann.predict(data_inf_transform)\n",
        "\n",
        "y_pred_inf[0][0]"
      ],
      "metadata": {
        "colab": {
          "base_uri": "https://localhost:8080/"
        },
        "id": "dFNq8bQ_BqoY",
        "outputId": "912c26c9-0f36-4c2a-d5df-b22a2d6ceeae"
      },
      "execution_count": 10,
      "outputs": [
        {
          "output_type": "stream",
          "name": "stdout",
          "text": [
            "1/1 [==============================] - 0s 21ms/step\n"
          ]
        },
        {
          "output_type": "execute_result",
          "data": {
            "text/plain": [
              "0.6020588"
            ]
          },
          "metadata": {},
          "execution_count": 10
        }
      ]
    },
    {
      "cell_type": "code",
      "source": [
        "y_pred_inf = np.where(y_pred_inf >= 0.5, 1, 0)\n",
        "y_pred_inf[0][0]"
      ],
      "metadata": {
        "colab": {
          "base_uri": "https://localhost:8080/"
        },
        "id": "XayfVEpPa1Nm",
        "outputId": "b4cfba76-22a3-4bbb-8a31-a8ba36be1509"
      },
      "execution_count": 11,
      "outputs": [
        {
          "output_type": "execute_result",
          "data": {
            "text/plain": [
              "1"
            ]
          },
          "metadata": {},
          "execution_count": 11
        }
      ]
    }
  ]
}